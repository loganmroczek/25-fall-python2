{
 "cells": [
  {
   "cell_type": "markdown",
   "id": "902caedd",
   "metadata": {},
   "source": [
    "### Homework 5"
   ]
  },
  {
   "cell_type": "code",
   "execution_count": 3,
   "id": "681c2315",
   "metadata": {},
   "outputs": [],
   "source": [
    "def palindromic_test(number):\n",
    "    \"\"\"\n",
    "    Tests to see if number is palindromic\n",
    "\n",
    "    :param number: a positive integer to test\n",
    "    \"\"\"\n",
    "    number_str = str(number)\n",
    "    if number_str == number_str[::-1]:\n",
    "        return True"
   ]
  },
  {
   "cell_type": "code",
   "execution_count": 21,
   "id": "842782c8",
   "metadata": {},
   "outputs": [],
   "source": [
    "def palindromic_product(n):\n",
    "    \"\"\"\n",
    "    Finds the largest palindromic product of two n-digit factors\n",
    "\n",
    "    :param n: factors are n-digits in length\n",
    "    \"\"\"\n",
    "    max_product = 0\n",
    "\n",
    "    for multiplicand in range(1*10**(n-1),1*10**n):\n",
    "        for multiplier in range(multiplicand,1*10**n):\n",
    "            product = multiplicand*multiplier\n",
    "            if palindromic_test(product) == True:\n",
    "                if product > max_product:\n",
    "                    max_product = product\n",
    "    return max_product\n"
   ]
  },
  {
   "cell_type": "code",
   "execution_count": 22,
   "id": "7b0dfac4",
   "metadata": {},
   "outputs": [
    {
     "name": "stdout",
     "output_type": "stream",
     "text": [
      "906609\n"
     ]
    }
   ],
   "source": [
    "print(palindromic_product(3))"
   ]
  },
  {
   "cell_type": "code",
   "execution_count": null,
   "id": "f424a6ca",
   "metadata": {},
   "outputs": [],
   "source": [
    "def primes_list(n):\n",
    "    \"\"\"\n",
    "    Returns a list of primes less than or equal to n\n",
    "\n",
    "    :param n: cutoff integer for finding prime numbers\n",
    "    \"\"\"\n",
    "    primes = []\n",
    "    for number in range(2,n+1):\n",
    "        prime = True\n",
    "        for divisor in primes:\n",
    "            if number % divisor == 0:\n",
    "                prime = False\n",
    "                break\n",
    "        if prime == True:\n",
    "            primes.append(number)\n",
    "    return primes"
   ]
  },
  {
   "cell_type": "code",
   "execution_count": 40,
   "id": "0d1516d6",
   "metadata": {},
   "outputs": [
    {
     "name": "stdout",
     "output_type": "stream",
     "text": [
      "[2, 3, 5, 7, 11, 13, 17, 19]\n"
     ]
    }
   ],
   "source": [
    "print(primes_list(19))"
   ]
  }
 ],
 "metadata": {
  "kernelspec": {
   "display_name": "Python 3",
   "language": "python",
   "name": "python3"
  },
  "language_info": {
   "codemirror_mode": {
    "name": "ipython",
    "version": 3
   },
   "file_extension": ".py",
   "mimetype": "text/x-python",
   "name": "python",
   "nbconvert_exporter": "python",
   "pygments_lexer": "ipython3",
   "version": "3.12.1"
  }
 },
 "nbformat": 4,
 "nbformat_minor": 5
}

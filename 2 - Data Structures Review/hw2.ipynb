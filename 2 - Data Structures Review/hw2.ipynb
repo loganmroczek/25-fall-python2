{
 "cells": [
  {
   "cell_type": "markdown",
   "id": "762363a7",
   "metadata": {},
   "source": [
    "## Homework 2"
   ]
  },
  {
   "cell_type": "code",
   "execution_count": 1,
   "id": "6c053449",
   "metadata": {},
   "outputs": [],
   "source": [
    "def histogram(string_list):\n",
    "    string_dict = {}\n",
    "    for string in string_list:\n",
    "        if string in string_dict.keys():\n",
    "            string_dict[string] += 1\n",
    "        else:\n",
    "            string_dict[string] = 1\n",
    "    return string_dict"
   ]
  },
  {
   "cell_type": "code",
   "execution_count": 2,
   "id": "99385a5f",
   "metadata": {},
   "outputs": [
    {
     "data": {
      "text/plain": [
       "{'a': 1, 'c': 2, 'b': 1}"
      ]
     },
     "execution_count": 2,
     "metadata": {},
     "output_type": "execute_result"
    }
   ],
   "source": [
    "string_list = ['a','c','c','b']\n",
    "histogram(string_list)"
   ]
  },
  {
   "cell_type": "code",
   "execution_count": 7,
   "id": "6433c81d",
   "metadata": {},
   "outputs": [],
   "source": [
    "def reverse_tuple(tuple_set1,tuple_set2):\n",
    "    for tuple in tuple_set1:\n",
    "        rev_tuple = (tuple[1],tuple[0])\n",
    "        if rev_tuple in tuple_set2:\n",
    "            return True\n",
    "    return False"
   ]
  },
  {
   "cell_type": "code",
   "execution_count": 8,
   "id": "1c16fc20",
   "metadata": {},
   "outputs": [
    {
     "name": "stdout",
     "output_type": "stream",
     "text": [
      "True\n",
      "False\n"
     ]
    }
   ],
   "source": [
    "tuple_set1 = {(1, 2), (3, 4)}\n",
    "tuple_set2 = {(2, 1), (5, 6)}\n",
    "print(reverse_tuple(tuple_set1,tuple_set2))\n",
    "print(reverse_tuple({(1, 2), (3, 4)}, {(1, 2), (2, 3)}))"
   ]
  }
 ],
 "metadata": {
  "kernelspec": {
   "display_name": "Python 3",
   "language": "python",
   "name": "python3"
  },
  "language_info": {
   "codemirror_mode": {
    "name": "ipython",
    "version": 3
   },
   "file_extension": ".py",
   "mimetype": "text/x-python",
   "name": "python",
   "nbconvert_exporter": "python",
   "pygments_lexer": "ipython3",
   "version": "3.12.1"
  }
 },
 "nbformat": 4,
 "nbformat_minor": 5
}

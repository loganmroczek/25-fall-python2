{
 "cells": [
  {
   "cell_type": "markdown",
   "metadata": {},
   "source": [
    "Lists are the most common choice in Python to storing an array of data."
   ]
  },
  {
   "cell_type": "code",
   "execution_count": 33,
   "metadata": {},
   "outputs": [
    {
     "data": {
      "text/plain": [
       "8"
      ]
     },
     "execution_count": 33,
     "metadata": {},
     "output_type": "execute_result"
    }
   ],
   "source": [
    "test_list = [5, 8, 4]\n",
    "test_list[1]"
   ]
  },
  {
   "cell_type": "code",
   "execution_count": 34,
   "metadata": {},
   "outputs": [],
   "source": [
    "def list_demo(input_list):\n",
    "    \"\"\"\n",
    "    :param input_list: a list of integers\n",
    "    :return: returns a copy of input list with each integer incremented by 1\n",
    "    \"\"\"\n",
    "\n",
    "    # Make a copy of the input list so no changes are made to user's input\n",
    "    incremented_list = input_list.copy()\n",
    "    \n",
    "    # This is bad style and you should feel bad\n",
    "    # loc is never used except as the loop index\n",
    "    for loc in range(len(incremented_list)):\n",
    "        incremented_list[loc] = incremented_list[loc] + 1\n",
    "\n",
    "    return incremented_list"
   ]
  },
  {
   "cell_type": "code",
   "execution_count": 35,
   "metadata": {},
   "outputs": [
    {
     "name": "stdout",
     "output_type": "stream",
     "text": [
      "Original list: [5, 8, 4]\n",
      "Incremented list: [6, 9, 5]\n"
     ]
    }
   ],
   "source": [
    "test_list = [5, 8, 4]\n",
    "inc_list = list_demo(test_list)\n",
    "print('Original list:', test_list)\n",
    "print('Incremented list:', inc_list)"
   ]
  },
  {
   "cell_type": "code",
   "execution_count": 36,
   "metadata": {},
   "outputs": [],
   "source": [
    "def list_demo2(word_list):\n",
    "    \"\"\"\n",
    "    :param word_list: a list of strings (words)\n",
    "    :return: returns a new list containing all words from input_list that contain an 'e'\n",
    "    \"\"\"\n",
    "\n",
    "    e_list = list()\n",
    "\n",
    "    # This is the preferred Python syntax for scanning a list\n",
    "    # Much cleaner style than looping over a range\n",
    "    for word in word_list:\n",
    "        if 'e' in word:\n",
    "            e_list.append(word)\n",
    "\n",
    "    return e_list"
   ]
  },
  {
   "cell_type": "code",
   "execution_count": 37,
   "metadata": {},
   "outputs": [
    {
     "name": "stdout",
     "output_type": "stream",
     "text": [
      "['apple', 'date']\n"
     ]
    }
   ],
   "source": [
    "test_list = ['apple', 'banana', 'carrot', 'date']\n",
    "e_words = list_demo2(test_list)\n",
    "print(e_words)"
   ]
  },
  {
   "cell_type": "code",
   "execution_count": 38,
   "metadata": {},
   "outputs": [
    {
     "name": "stdout",
     "output_type": "stream",
     "text": [
      "The num is 1 and the letter is a\n",
      "The num is 1 and the letter is b\n",
      "The num is 1 and the letter is c\n",
      "The num is 2 and the letter is a\n",
      "The num is 2 and the letter is b\n",
      "The num is 2 and the letter is c\n",
      "The num is 3 and the letter is a\n",
      "The num is 3 and the letter is b\n",
      "The num is 3 and the letter is c\n"
     ]
    }
   ],
   "source": [
    "# Looping over two lists separately\n",
    "num_list = [1, 2, 3]\n",
    "string_list = ['a', 'b', 'c']\n",
    "for num in num_list:\n",
    "    for letter in string_list:\n",
    "        print('The num is', num, 'and the letter is', letter)"
   ]
  },
  {
   "cell_type": "markdown",
   "metadata": {},
   "source": [
    "Use a dictionary when you want to reference the items in the collection (called \"values\") by something other than their location (called \"keys\")."
   ]
  },
  {
   "cell_type": "code",
   "execution_count": 39,
   "metadata": {},
   "outputs": [],
   "source": [
    "def dictionary_demo(upper_int):\n",
    "    \"\"\"\n",
    "    :param upper_int: integer\n",
    "    :return: a dictionary whose keys are perfect squares and whose values are their\n",
    "                associated positive square roots\n",
    "    \"\"\"\n",
    "\n",
    "    square_dict = dict()\n",
    "\n",
    "    for current_int in range(1, upper_int + 1):\n",
    "        square_dict[current_int**2] = current_int\n",
    "\n",
    "    return square_dict"
   ]
  },
  {
   "cell_type": "code",
   "execution_count": 40,
   "metadata": {},
   "outputs": [
    {
     "name": "stdout",
     "output_type": "stream",
     "text": [
      "Dictionary: {1: 1, 4: 2, 9: 3, 16: 4, 25: 5, 36: 6, 49: 7, 64: 8, 81: 9, 100: 10}\n",
      "Keys: dict_keys([1, 4, 9, 16, 25, 36, 49, 64, 81, 100])\n",
      "Values: dict_values([1, 2, 3, 4, 5, 6, 7, 8, 9, 10])\n",
      "The square root of 81 is 9\n"
     ]
    }
   ],
   "source": [
    "square_roots = dictionary_demo(10)\n",
    "print('Dictionary:', square_roots)\n",
    "print('Keys:', square_roots.keys())\n",
    "print('Values:', square_roots.values())\n",
    "print('The square root of 81 is', square_roots[81])\n",
    "#print('There is no key 0', square_roots[0])"
   ]
  },
  {
   "cell_type": "code",
   "execution_count": 41,
   "metadata": {},
   "outputs": [
    {
     "name": "stdout",
     "output_type": "stream",
     "text": [
      "81 is a key\n",
      "9 is a value\n",
      "5 is a value\n"
     ]
    }
   ],
   "source": [
    "# You can check whether keys or values exist in a dictionary\n",
    "if 81 in square_roots.keys():\n",
    "    print('81 is a key')\n",
    "if 9 in square_roots.values():\n",
    "    print('9 is a value')\n",
    "if 5 in square_roots:\n",
    "    print('This wont print')\n",
    "if 5 in square_roots.values():\n",
    "    print('5 is a value')"
   ]
  },
  {
   "cell_type": "markdown",
   "metadata": {},
   "source": [
    "Use a set when you don't care about the order of the values and you have no plans to look them up. With a set, you only care whether the value exists in the set or not."
   ]
  },
  {
   "cell_type": "code",
   "execution_count": 42,
   "metadata": {},
   "outputs": [],
   "source": [
    "def set_demo(num_ints):\n",
    "    \"\"\"\n",
    "    :param num_ints: integer\n",
    "    :return: print some data about lookup times for lists and sets\n",
    "    \"\"\"\n",
    "\n",
    "    import time\n",
    "\n",
    "    test_list = list()\n",
    "    test_set = set()\n",
    "\n",
    "    for curr_int in range(num_ints):\n",
    "        test_list.append(curr_int)\n",
    "        test_set.add(curr_int)\n",
    "\n",
    "    start = time.time()\n",
    "    for curr_int in range(num_ints):\n",
    "        if curr_int in test_list:\n",
    "            continue\n",
    "    end = time.time()\n",
    "    lis_time = end - start\n",
    "    print('Lookup time for lists:', lis_time)\n",
    "\n",
    "    start = time.time()\n",
    "    for curr_int in range(num_ints):\n",
    "        if curr_int in test_set: # just a little check to waste time\n",
    "            continue\n",
    "    end = time.time()\n",
    "    set_time = end - start\n",
    "    print('Lookup time for sets:', set_time)"
   ]
  },
  {
   "cell_type": "code",
   "execution_count": 43,
   "metadata": {},
   "outputs": [
    {
     "name": "stdout",
     "output_type": "stream",
     "text": [
      "Lookup time for lists: 2.1135594844818115\n",
      "Lookup time for sets: 0.0008060932159423828\n"
     ]
    }
   ],
   "source": [
    "# Sets are incredibly fast at lookup compared to other data structures.\n",
    "set_demo(20000)"
   ]
  },
  {
   "cell_type": "markdown",
   "metadata": {},
   "source": [
    "Tuples have a few specialized use cases."
   ]
  },
  {
   "cell_type": "code",
   "execution_count": 44,
   "metadata": {},
   "outputs": [
    {
     "name": "stdout",
     "output_type": "stream",
     "text": [
      "2\n"
     ]
    }
   ],
   "source": [
    "# 1. They are immutable\n",
    "tup = (1,2,3)\n",
    "print(tup[1])\n",
    "\n",
    "# Will cause an error, since tuples are immutable\n",
    "#tup[0] = 5"
   ]
  },
  {
   "cell_type": "code",
   "execution_count": 45,
   "metadata": {},
   "outputs": [],
   "source": [
    "# 2. They are traditionally used as heterogeneous data structures while lists are typically homogeneous\n",
    "tup = ('Austin', 'Mohr', 29) # immutability reliably keeps FirstName, LastName, Age in their correct positions\n",
    "lis = ['Austin', 'Kristin', 'Brent'] # users expect a list to contain all the same time of data, like FirstNames"
   ]
  },
  {
   "cell_type": "code",
   "execution_count": 46,
   "metadata": {},
   "outputs": [
    {
     "name": "stdout",
     "output_type": "stream",
     "text": [
      "{('Mohr', 'Austin'): 29, ('of Alexandria', 'Euclid'): 2350, ('Cantor', 'Georg'): 174}\n",
      "29\n",
      "2350\n",
      "174\n"
     ]
    }
   ],
   "source": [
    "# 3. They can be used as dictionary keys\n",
    "age = {('Mohr', 'Austin'): 29, ('of Alexandria', 'Euclid'): 2350}\n",
    "age[('Cantor', 'Georg')] = 174\n",
    "print(age)\n",
    "print(age['Mohr', 'Austin']) # You can omit the parens on a tuple\n",
    "print(age['of Alexandria', 'Euclid'])\n",
    "print(age['Cantor','Georg'])"
   ]
  },
  {
   "cell_type": "code",
   "execution_count": 47,
   "metadata": {},
   "outputs": [
    {
     "name": "stdout",
     "output_type": "stream",
     "text": [
      "<zip object at 0x7d4ac15e4540>\n",
      "Number 1 is associated with character a\n",
      "Number 2 is associated with character b\n",
      "Number 3 is associated with character c\n"
     ]
    }
   ],
   "source": [
    "# 4. You can loop over two lists at once\n",
    "list1 = [1,2,3]\n",
    "list2 = ['a', 'b', 'c']\n",
    "combined_zip = zip(list1, list2)\n",
    "print(combined_zip) # an advanced data type that allows for looping\n",
    "\n",
    "for (number, character) in combined_zip: # loop using tuple syntax\n",
    "    print('Number', number, 'is associated with character', character)"
   ]
  },
  {
   "cell_type": "code",
   "execution_count": null,
   "metadata": {},
   "outputs": [],
   "source": []
  }
 ],
 "metadata": {
  "kernelspec": {
   "display_name": "Python 3",
   "language": "python",
   "name": "python3"
  },
  "language_info": {
   "codemirror_mode": {
    "name": "ipython",
    "version": 3
   },
   "file_extension": ".py",
   "mimetype": "text/x-python",
   "name": "python",
   "nbconvert_exporter": "python",
   "pygments_lexer": "ipython3",
   "version": "3.12.1"
  }
 },
 "nbformat": 4,
 "nbformat_minor": 2
}

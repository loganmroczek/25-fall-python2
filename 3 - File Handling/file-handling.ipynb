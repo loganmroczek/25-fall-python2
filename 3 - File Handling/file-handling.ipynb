{
 "cells": [
  {
   "cell_type": "code",
   "execution_count": null,
   "metadata": {},
   "outputs": [],
   "source": [
    "def first_half_string(input_str):\n",
    "    \"\"\"\n",
    "    Demonstrates string slicing syntax.\n",
    "\n",
    "    :param input_str: string\n",
    "    :return: the first half (rounded down) of the string\n",
    "    \"\"\"\n",
    "\n",
    "    num_chars = len(input_str) // 2\n",
    "\n",
    "    # The first argument in the slice is the starting index (inclusive) and the second argument is the ending index (exclusive)\n",
    "    return input_str[0:num_chars]"
   ]
  },
  {
   "cell_type": "code",
   "execution_count": null,
   "metadata": {},
   "outputs": [],
   "source": [
    "first_half_string('testing')"
   ]
  },
  {
   "cell_type": "code",
   "execution_count": null,
   "metadata": {},
   "outputs": [],
   "source": [
    "def decompose_string(input_str):\n",
    "    \"\"\"\n",
    "    Demonstrates string slicing syntax with optional \"step\" argument.\n",
    "\n",
    "    :param input_str: string\n",
    "    :return: a tuple containing two strings - the first is composed of all even-indexed characters and the second is composed of the odd-indexed characters\n",
    "    \"\"\"\n",
    "\n",
    "    # If no first and second argument are provided, Python assumes you wish to start at the first character and end at the last character.\n",
    "    even_chars = input_str[::2]\n",
    "    odd_chars = input_str[1::2]\n",
    "    \n",
    "    return (even_chars, odd_chars)"
   ]
  },
  {
   "cell_type": "code",
   "execution_count": null,
   "metadata": {},
   "outputs": [],
   "source": [
    "decompose_string('testing')"
   ]
  },
  {
   "cell_type": "code",
   "execution_count": null,
   "metadata": {},
   "outputs": [],
   "source": [
    "def file_demo(search_char):\n",
    "    \"\"\"\n",
    "    Demonstrates opening, reading from, and writing to files\n",
    "\n",
    "    :param search_char: character to search for in each word\n",
    "    :return: None (writes all words ending in search_char to file)\n",
    "    \"\"\"\n",
    "\n",
    "    # using \"with\" is the cleanest way to open a file\n",
    "    # the file will automatically be closed when you exit this context\n",
    "    with open('words.txt', 'r') as read_file: # 'r' keyword indicates read-only\n",
    "\n",
    "        with open('output.txt', 'w') as write_file: # 'w' keyword indicates writing\n",
    "\n",
    "            for line in read_file: # loops over each line in the file\n",
    "\n",
    "                # Strip off all whitespace (in this case, the newline character)\n",
    "                line = line.strip()\n",
    "\n",
    "                # If line ends with search_char, then print to file\n",
    "                # Manually reattach the newline character so we get one string per line\n",
    "                if line[-1] == search_char:\n",
    "                    write_file.write(line + '\\n')"
   ]
  },
  {
   "cell_type": "code",
   "execution_count": null,
   "metadata": {},
   "outputs": [],
   "source": [
    "file_demo('x')"
   ]
  },
  {
   "cell_type": "code",
   "execution_count": null,
   "metadata": {},
   "outputs": [],
   "source": [
    "s = 'pins'\n",
    "s[::-1]"
   ]
  },
  {
   "cell_type": "code",
   "execution_count": null,
   "metadata": {},
   "outputs": [],
   "source": [
    "'test'"
   ]
  }
 ],
 "metadata": {
  "kernelspec": {
   "display_name": "Python 3",
   "language": "python",
   "name": "python3"
  },
  "language_info": {
   "codemirror_mode": {
    "name": "ipython",
    "version": 3
   },
   "file_extension": ".py",
   "mimetype": "text/x-python",
   "name": "python",
   "nbconvert_exporter": "python",
   "pygments_lexer": "ipython3",
   "version": "3.12.1"
  }
 },
 "nbformat": 4,
 "nbformat_minor": 2
}

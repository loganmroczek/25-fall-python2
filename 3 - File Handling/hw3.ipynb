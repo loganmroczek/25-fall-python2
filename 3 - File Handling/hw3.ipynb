{
 "cells": [
  {
   "cell_type": "markdown",
   "id": "052028a3",
   "metadata": {},
   "source": [
    "## Homework 3: File Handling"
   ]
  },
  {
   "cell_type": "code",
   "execution_count": 33,
   "id": "99506c68",
   "metadata": {},
   "outputs": [],
   "source": [
    "# counts the number of times a string appears in a list\n",
    "def histogram(string):\n",
    "    char_dict = {}\n",
    "    #loops through list and adds to dictionary or increments if already present\n",
    "    for char in string:\n",
    "        if char in char_dict.keys():\n",
    "            char_dict[char] += 1\n",
    "        else:\n",
    "            char_dict[char] = 1\n",
    "    return char_dict\n",
    "\n",
    "def anagrams(input_string):\n",
    "    with open('words.txt') as read_file:\n",
    "        words_list = read_file.read().splitlines()\n",
    "\n",
    "        with open('anagrams.txt', 'w') as write_file:\n",
    "        \n",
    "            for word in words_list:\n",
    "                if histogram(input_string) == histogram(word):\n",
    "                    write_file.write(word + \"\\n\")\n"
   ]
  },
  {
   "cell_type": "code",
   "execution_count": 34,
   "id": "599abdac",
   "metadata": {},
   "outputs": [],
   "source": [
    "anagrams(\"pots\")"
   ]
  },
  {
   "cell_type": "code",
   "execution_count": 46,
   "id": "c06d0ab8",
   "metadata": {},
   "outputs": [],
   "source": [
    "def heteropalindromes():\n",
    "    with open('words.txt') as read_file:\n",
    "        words_list = read_file.read().splitlines()\n",
    "        words_set = set(read_file.read().splitlines())\n",
    "\n",
    "        tuples_set = set()\n",
    "        for word in words_list:\n",
    "            if word[::-1] in words_list:\n",
    "                tuples_set.add((word, word[::-1]))\n",
    "        return(tuples_set)\n",
    "                \n"
   ]
  },
  {
   "cell_type": "code",
   "execution_count": 47,
   "id": "c8855f29",
   "metadata": {},
   "outputs": [
    {
     "ename": "KeyboardInterrupt",
     "evalue": "",
     "output_type": "error",
     "traceback": [
      "\u001b[31m---------------------------------------------------------------------------\u001b[39m",
      "\u001b[31mKeyboardInterrupt\u001b[39m                         Traceback (most recent call last)",
      "\u001b[36mCell\u001b[39m\u001b[36m \u001b[39m\u001b[32mIn[47]\u001b[39m\u001b[32m, line 1\u001b[39m\n\u001b[32m----> \u001b[39m\u001b[32m1\u001b[39m \u001b[43mheteropalindromes\u001b[49m\u001b[43m(\u001b[49m\u001b[43m)\u001b[49m\n",
      "\u001b[36mCell\u001b[39m\u001b[36m \u001b[39m\u001b[32mIn[46]\u001b[39m\u001b[32m, line 8\u001b[39m, in \u001b[36mheteropalindromes\u001b[39m\u001b[34m()\u001b[39m\n\u001b[32m      6\u001b[39m tuples_set = \u001b[38;5;28mset\u001b[39m()\n\u001b[32m      7\u001b[39m \u001b[38;5;28;01mfor\u001b[39;00m word \u001b[38;5;129;01min\u001b[39;00m words_list:\n\u001b[32m----> \u001b[39m\u001b[32m8\u001b[39m     \u001b[38;5;28;01mif\u001b[39;00m word[::-\u001b[32m1\u001b[39m] \u001b[38;5;129;01min\u001b[39;00m words_list:\n\u001b[32m      9\u001b[39m         tuples_set.add((word, word[::-\u001b[32m1\u001b[39m]))\n\u001b[32m     10\u001b[39m \u001b[38;5;28;01mreturn\u001b[39;00m(tuples_set)\n",
      "\u001b[31mKeyboardInterrupt\u001b[39m: "
     ]
    }
   ],
   "source": [
    "heteropalindromes()"
   ]
  }
 ],
 "metadata": {
  "kernelspec": {
   "display_name": "Python 3",
   "language": "python",
   "name": "python3"
  },
  "language_info": {
   "codemirror_mode": {
    "name": "ipython",
    "version": 3
   },
   "file_extension": ".py",
   "mimetype": "text/x-python",
   "name": "python",
   "nbconvert_exporter": "python",
   "pygments_lexer": "ipython3",
   "version": "3.12.1"
  }
 },
 "nbformat": 4,
 "nbformat_minor": 5
}

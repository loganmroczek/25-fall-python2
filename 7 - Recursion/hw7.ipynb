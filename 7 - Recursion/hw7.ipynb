{
 "cells": [
  {
   "cell_type": "markdown",
   "id": "b972c94d",
   "metadata": {},
   "source": [
    "### HW 7: Recursion I"
   ]
  },
  {
   "cell_type": "code",
   "execution_count": null,
   "id": "3ae4b213",
   "metadata": {},
   "outputs": [],
   "source": [
    "known_lengths = {1:1,2:2,3:4,4:8}\n",
    "\n",
    "def colored_blocks(n):\n",
    "    \"\"\"\n",
    "    Recursive algorithm to solve the number of different size block combinations can fit in a length of n size\n",
    "\n",
    "    :param n: the length of the row to be tiled\n",
    "    :return: the number of tile combinations that could fit in a row of length n\n",
    "    \"\"\"\n",
    "    global known_lengths\n",
    "\n",
    "    if n in known_lengths:\n",
    "        return known_lengths[n]\n",
    "    \n",
    "    # recursive case\n",
    "    else:\n",
    "        colored_blocks_n = colored_blocks(n-1) + colored_blocks(n-2) + colored_blocks(n-3) + colored_blocks(n-4)\n",
    "    known_lengths[n] = colored_blocks_n\n",
    "    return colored_blocks_n"
   ]
  },
  {
   "cell_type": "code",
   "execution_count": 31,
   "id": "52e18a64",
   "metadata": {},
   "outputs": [
    {
     "data": {
      "text/plain": [
       "100808458960497"
      ]
     },
     "execution_count": 31,
     "metadata": {},
     "output_type": "execute_result"
    }
   ],
   "source": [
    "colored_blocks(50)"
   ]
  },
  {
   "cell_type": "code",
   "execution_count": null,
   "id": "347b76fa",
   "metadata": {},
   "outputs": [],
   "source": [
    "def create_known_dictionary(n,k):\n",
    "    \"\"\"\n",
    "    Creates a dictionary of known base cases for stirling numbers given n and k\n",
    "\n",
    "    :param n: Base case of S(n,1) = 1\n",
    "    :param k: Base case of S(k,k) = 1\n",
    "    :return: Dictionary of known base cases for S(n,k)\n",
    "    \"\"\"\n",
    "    known_stirling_nums = {}\n",
    "    for k in range(1,k+1):\n",
    "        known_stirling_nums[(k,k)] = 1\n",
    "    for n in range(2,n+1):\n",
    "        known_stirling_nums[(n,1)] = 1\n",
    "    return known_stirling_nums\n"
   ]
  },
  {
   "cell_type": "code",
   "execution_count": null,
   "id": "90c0b52c",
   "metadata": {},
   "outputs": [],
   "source": [
    "known_stirling_nums = {}\n",
    "\n",
    "def stirling2(n,k):\n",
    "    \"\"\"\n",
    "    Recursive algorithm to solve stirling numbers of the second kind with variables n and k\n",
    "\n",
    "    :param n: plugged into stirling formula: S(n,k) S(n-1,k-1) + k * S(n-1,k)\n",
    "    :param k: plugged into stirling formula: S(n,k) S(n-1,k-1) + k * S(n-1,k)\n",
    "    :return: the stirling number for S(n,k)\n",
    "    \"\"\"\n",
    "    global known_stirling_nums\n",
    "    if not(known_stirling_nums):\n",
    "        known_stirling_nums =  create_known_dictionary(n,k)\n",
    "\n",
    "    if (n,k) in known_stirling_nums:\n",
    "        return known_stirling_nums[(n,k)]\n",
    "    \n",
    "    else:\n",
    "        stirling_nk = stirling2(n-1,k-1) + k * stirling2(n-1,k)\n",
    "    \n",
    "    known_stirling_nums[(n,k)] = stirling_nk\n",
    "    return stirling_nk\n"
   ]
  },
  {
   "cell_type": "code",
   "execution_count": 36,
   "id": "47cb65a0",
   "metadata": {},
   "outputs": [
    {
     "data": {
      "text/plain": [
       "42525"
      ]
     },
     "execution_count": 36,
     "metadata": {},
     "output_type": "execute_result"
    }
   ],
   "source": [
    "stirling2(10,5)"
   ]
  }
 ],
 "metadata": {
  "kernelspec": {
   "display_name": "Python 3",
   "language": "python",
   "name": "python3"
  },
  "language_info": {
   "codemirror_mode": {
    "name": "ipython",
    "version": 3
   },
   "file_extension": ".py",
   "mimetype": "text/x-python",
   "name": "python",
   "nbconvert_exporter": "python",
   "pygments_lexer": "ipython3",
   "version": "3.12.1"
  }
 },
 "nbformat": 4,
 "nbformat_minor": 5
}

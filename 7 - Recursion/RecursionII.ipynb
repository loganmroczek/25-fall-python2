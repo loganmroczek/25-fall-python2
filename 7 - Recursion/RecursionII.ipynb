{
 "cells": [
  {
   "cell_type": "markdown",
   "id": "36d95cdc",
   "metadata": {},
   "source": [
    "### HW 7: Recursion II"
   ]
  },
  {
   "cell_type": "code",
   "execution_count": null,
   "id": "0b28efb1",
   "metadata": {},
   "outputs": [],
   "source": [
    "def merge(arr1, arr2):\n",
    "    \"\"\"\n",
    "    Merge the contents of 2 arrays in sorted order\n",
    "\n",
    "    :param arr1: array of numbers to be merged in sorted order\n",
    "    :param arr2: array of numbers to be merged in sorted order\n",
    "    :return: a merged and sorted array containg the numbers from arr1 and arr 2\n",
    "    \"\"\"\n",
    "    merged_array = []\n",
    "\n",
    "    while len(arr1) > 0 and len(arr2) > 0:\n",
    "        if arr1[0] < arr2[0]:\n",
    "            merged_array.append(arr1[0])\n",
    "            arr1.pop(0)\n",
    "        else:\n",
    "            merged_array.append(arr2[0])\n",
    "            arr2.pop(0)\n",
    "    \n",
    "    return merged_array + arr1 + arr2\n"
   ]
  },
  {
   "cell_type": "code",
   "execution_count": null,
   "id": "2cfd03a8",
   "metadata": {},
   "outputs": [],
   "source": [
    "def mergesort(arr):\n",
    "    \"\"\"\n",
    "    Uses mergesort technique to sort an array of numbers\n",
    "\n",
    "    :param arr: array of numbers to be sorted\n",
    "    :return: sorted array of numbers\n",
    "    \"\"\"\n",
    "    if len(arr) == 1:\n",
    "        return arr\n",
    "    \n",
    "    arr1 = arr[0:int(len(arr)/2)]\n",
    "    arr2 = arr[int(len(arr)/2)-len(arr):]\n",
    "\n",
    "    arr1 = mergesort(arr1)\n",
    "    arr2 = mergesort(arr2)\n",
    "\n",
    "    return merge(arr1,arr2)"
   ]
  },
  {
   "cell_type": "code",
   "execution_count": 28,
   "id": "da80bb10",
   "metadata": {},
   "outputs": [
    {
     "data": {
      "text/plain": [
       "[1, 2, 3, 4, 5, 5, 5, 6, 7, 8, 9]"
      ]
     },
     "execution_count": 28,
     "metadata": {},
     "output_type": "execute_result"
    }
   ],
   "source": [
    "mergesort([6, 5, 5, 7, 4, 8, 3, 5, 1, 2, 9])"
   ]
  },
  {
   "cell_type": "markdown",
   "id": "011268c4",
   "metadata": {},
   "source": [
    "##### Psuedocode\n",
    "```\n",
    "sorted array is empty\n",
    "selection_recursive function call\n",
    "    add minimum in array to sorted array\n",
    "    remove the minimum from array\n",
    "    if the len of arr is greater than 0\n",
    "        selection_recursive function call\n",
    "    return sorted_array\n",
    "```"
   ]
  },
  {
   "cell_type": "code",
   "execution_count": null,
   "id": "0d0aecab",
   "metadata": {},
   "outputs": [],
   "source": [
    "sorted_array = []\n",
    "def selection_recursive(arr):\n",
    "    \"\"\"\n",
    "    A recursive selection algorithm that sorts an array of numbers\n",
    "\n",
    "    :param arr: array of numbers to be sorted\n",
    "    :return: sorted array of numbers\n",
    "    \"\"\"\n",
    "    global sorted_array\n",
    "\n",
    "    sorted_array.append(min(arr))\n",
    "    arr.remove(min(arr))\n",
    "    \n",
    "    if len(arr) > 0:\n",
    "        selection_recursive(arr)\n",
    "\n",
    "    return sorted_array\n",
    "\n",
    "    "
   ]
  },
  {
   "cell_type": "code",
   "execution_count": 32,
   "id": "9bd9b58d",
   "metadata": {},
   "outputs": [
    {
     "data": {
      "text/plain": [
       "[1, 2, 3, 4, 5, 5, 5, 6, 7, 8, 9]"
      ]
     },
     "execution_count": 32,
     "metadata": {},
     "output_type": "execute_result"
    }
   ],
   "source": [
    "selection_recursive([6, 5, 5, 7, 4, 8, 3, 5, 1, 2, 9])"
   ]
  }
 ],
 "metadata": {
  "kernelspec": {
   "display_name": "Python 3",
   "language": "python",
   "name": "python3"
  },
  "language_info": {
   "codemirror_mode": {
    "name": "ipython",
    "version": 3
   },
   "file_extension": ".py",
   "mimetype": "text/x-python",
   "name": "python",
   "nbconvert_exporter": "python",
   "pygments_lexer": "ipython3",
   "version": "3.12.1"
  }
 },
 "nbformat": 4,
 "nbformat_minor": 5
}

{
 "cells": [
  {
   "cell_type": "markdown",
   "id": "4500f5f9",
   "metadata": {},
   "source": [
    "### HW 9: Backtracking"
   ]
  },
  {
   "cell_type": "markdown",
   "id": "3d0f0820",
   "metadata": {},
   "source": [
    "#### Psuedocode Generate Tilings\n",
    "```\n",
    "global all_permutattions variable\n",
    "Call generate_tilings with parameters \"partial_perm\" and a length \"n\"\n",
    "    if the sum of the partial_perm is equal to length n\n",
    "        add partial_perm to all_permutations\n",
    "    else if the sum of partial_perm is greater than n\n",
    "        disregard permutation as invalid\n",
    "    else \n",
    "        for each tile length\n",
    "            append each tile length and \n",
    "            call generate tilings with the new partial_perm\n",
    "        return all_permutations\n",
    "\n",
    "```"
   ]
  },
  {
   "cell_type": "code",
   "execution_count": null,
   "id": "0dcbc687",
   "metadata": {},
   "outputs": [],
   "source": [
    "all_permutations = []\n",
    "tiles = [1,2,3,4]\n",
    "def generate_tilings(partial_perm,n):\n",
    "    \"\"\"\n",
    "    Recursive backtracking algorithm to generate all valid permutations of tiles to fill length n\n",
    "    Initial call is generate_tilings([], l)\n",
    "\n",
    "    :param partial_perm: list containing the initial characters of the permutation in a fixed order\n",
    "    :param n: length to be filled by tiles of varying length\n",
    "    \"\"\"\n",
    "    global all_permutations\n",
    "    global tiles\n",
    "\n",
    "    if sum(partial_perm) == n:\n",
    "            all_permutations.append(partial_perm)\n",
    "    elif sum(partial_perm) > n:\n",
    "        pass\n",
    "    else:\n",
    "        for tile in range(1,5):\n",
    "            partial_perm_copy = partial_perm.copy()\n",
    "            partial_perm_copy.append(tile)\n",
    "            generate_tilings(partial_perm_copy,n)\n",
    "        return all_permutations\n",
    "\n",
    "        "
   ]
  },
  {
   "cell_type": "code",
   "execution_count": 72,
   "id": "aa7d645e",
   "metadata": {},
   "outputs": [
    {
     "data": {
      "text/plain": [
       "[[1, 1, 1, 1], [1, 1, 2], [1, 2, 1], [1, 3], [2, 1, 1], [2, 2], [3, 1], [4]]"
      ]
     },
     "execution_count": 72,
     "metadata": {},
     "output_type": "execute_result"
    }
   ],
   "source": [
    "all_permutations = []\n",
    "generate_tilings([],4)\n"
   ]
  },
  {
   "cell_type": "markdown",
   "id": "8439acb8",
   "metadata": {},
   "source": [
    "#### Psuedocode Subset Sum\n",
    "```\n",
    "global all_subset_sums variable\n",
    "call subset_sum with parameters partial_perm, remaining_int (list of postive ints), and target\n",
    "    if the sum of the partial_perm is equal to target\n",
    "        add partial_perm to all_subset_sums\n",
    "    else if the sum of partial_perm is greater than target\n",
    "        disregard permutation as invalid\n",
    "    else \n",
    "        for each integer in remaining_int\n",
    "            add integer to partial_perm\n",
    "            remove integer from remaining_int\n",
    "            call subset_sum with the new partial_perm and remiaing_int lists\n",
    "        return all_subset_sums\n",
    "```"
   ]
  },
  {
   "cell_type": "code",
   "execution_count": null,
   "id": "1bd50c5b",
   "metadata": {},
   "outputs": [],
   "source": [
    "all_subset_sums = []\n",
    "def subset_sum(partial_perm, remaining_int, target):\n",
    "    \"\"\"\n",
    "    Recursive backtracking algorithm to generate all valid permutations of the subset sum problem\n",
    "    Initial call is subset_sum([],subset_list,target), where subset_list is the list of positive integers\n",
    "    to be permuted to sum to the target\n",
    "\n",
    "    :param partial_perm: list containing the initial characters of the permutation in a fixed order\n",
    "    :param remaining_chars: list containing all integers not yet included in the permutation\n",
    "    :param target: target sum for the subset\n",
    "    \"\"\"\n",
    "    global all_subset_sums\n",
    "\n",
    "    if sum(partial_perm) == target:\n",
    "            if sorted(partial_perm) not in all_subset_sums:\n",
    "                all_subset_sums.append(partial_perm)\n",
    "    elif sum(partial_perm) > target:\n",
    "        pass\n",
    "    else:\n",
    "        for int in remaining_int:\n",
    "            partial_perm_copy = partial_perm.copy()\n",
    "            partial_perm_copy.append(int)\n",
    "\n",
    "            remaining_int_copy = remaining_int.copy()\n",
    "            remaining_int_copy.remove(int)\n",
    "\n",
    "            subset_sum(partial_perm_copy,remaining_int_copy, target)\n",
    "        return all_subset_sums"
   ]
  },
  {
   "cell_type": "code",
   "execution_count": 80,
   "id": "eaf4d915",
   "metadata": {},
   "outputs": [
    {
     "data": {
      "text/plain": [
       "[[1, 2, 3], [1, 5], [2, 4], [6]]"
      ]
     },
     "execution_count": 80,
     "metadata": {},
     "output_type": "execute_result"
    }
   ],
   "source": [
    "subset_sum([], [1, 2, 3, 4, 5, 6, 7], 6)"
   ]
  }
 ],
 "metadata": {
  "kernelspec": {
   "display_name": "Python 3",
   "language": "python",
   "name": "python3"
  },
  "language_info": {
   "codemirror_mode": {
    "name": "ipython",
    "version": 3
   },
   "file_extension": ".py",
   "mimetype": "text/x-python",
   "name": "python",
   "nbconvert_exporter": "python",
   "pygments_lexer": "ipython3",
   "version": "3.12.1"
  }
 },
 "nbformat": 4,
 "nbformat_minor": 5
}

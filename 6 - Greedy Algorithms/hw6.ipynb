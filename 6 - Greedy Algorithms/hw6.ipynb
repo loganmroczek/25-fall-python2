{
 "cells": [
  {
   "cell_type": "markdown",
   "id": "adb6c3b3",
   "metadata": {},
   "source": [
    "### Homework 6"
   ]
  },
  {
   "cell_type": "code",
   "execution_count": 99,
   "id": "fa06b941",
   "metadata": {},
   "outputs": [],
   "source": [
    "def detect_overlap(string1,string2):\n",
    "    \"\"\"\n",
    "    Detects the amount of overlap between two strings\n",
    "\n",
    "    :param string1: string to be compared to string2\n",
    "    :param string2: string to be compared to string1\n",
    "    :return: an integer representing the amount of overlapping characters\n",
    "    \"\"\"\n",
    "    # identifies the shortest string\n",
    "    if len(string1) <= len(string2):\n",
    "        short_str = string1\n",
    "    else:\n",
    "        short_str = string2\n",
    "\n",
    "    # checks overlap and returns it\n",
    "    overlap = 0\n",
    "    for iteration in range(1,len(short_str)+1):\n",
    "        if string1[-iteration:] == string2[:iteration]:\n",
    "            overlap = iteration\n",
    "    return overlap\n"
   ]
  },
  {
   "cell_type": "code",
   "execution_count": 104,
   "id": "33f8de0a",
   "metadata": {},
   "outputs": [
    {
     "data": {
      "text/plain": [
       "3"
      ]
     },
     "execution_count": 104,
     "metadata": {},
     "output_type": "execute_result"
    }
   ],
   "source": [
    "detect_overlap(\"gcta\",\"ctaagt\")"
   ]
  },
  {
   "cell_type": "code",
   "execution_count": null,
   "id": "fa2ba9f1",
   "metadata": {},
   "outputs": [],
   "source": [
    "def shortest_superstring(string_list):\n",
    "    \"\"\"\n",
    "    Finds the shortest superstring of a list of strings \n",
    "\n",
    "    :param string_list: a list of strings\n",
    "    :return: superstring containing all of the strings from string_list\n",
    "    \"\"\"\n",
    "    string_list_copy = string_list.copy()\n",
    "\n",
    "    while len(string_list_copy) > 1:\n",
    "        max_overlap = 0\n",
    "        # iterates over string_list and compares strings\n",
    "        for string in string_list_copy:\n",
    "            for comparison_str in string_list_copy:\n",
    "                # skips if the string and comparison match\n",
    "                if string == comparison_str:\n",
    "                    continue\n",
    "                # detects overlap and saves strings and the amount of overlap if it is the max so far\n",
    "                overlap = detect_overlap(string,comparison_str)\n",
    "                if overlap > max_overlap:\n",
    "                    string1 = string\n",
    "                    string2 = comparison_str\n",
    "                    max_overlap = overlap\n",
    "\n",
    "        # removes the overlapping strings and appends the concatenated version if overlap is detected\n",
    "        # if no overlap, combines all the strings left\n",
    "        if max_overlap > 0:\n",
    "            string_list_copy.remove(string1)\n",
    "            string_list_copy.remove(string2)\n",
    "            string_list_copy.append(string1+string2[-len(string2)+max_overlap:])\n",
    "        else:\n",
    "            for iteration in range(len(string_list_copy)-1):\n",
    "                string_list_copy[0] = string_list_copy[0] + string_list_copy[-1]\n",
    "                string_list_copy.pop(-1)\n",
    "\n",
    "    return string_list_copy[0]\n",
    "\n",
    "    \n",
    "            "
   ]
  },
  {
   "cell_type": "code",
   "execution_count": 103,
   "id": "bab1d9e5",
   "metadata": {},
   "outputs": [
    {
     "data": {
      "text/plain": [
       "'gctaagttcatgcatc'"
      ]
     },
     "execution_count": 103,
     "metadata": {},
     "output_type": "execute_result"
    }
   ],
   "source": [
    "string_list = [\"catgc\",\"ctaagt\",\"gcta\",\"ttca\",\"atgcatc\"]\n",
    "\n",
    "shortest_superstring(string_list)"
   ]
  },
  {
   "cell_type": "code",
   "execution_count": 102,
   "id": "95d80e9a",
   "metadata": {},
   "outputs": [
    {
     "data": {
      "text/plain": [
       "'ABCDEFXCDEFYZ'"
      ]
     },
     "execution_count": 102,
     "metadata": {},
     "output_type": "execute_result"
    }
   ],
   "source": [
    "string_list = ['ABCDEF', 'BCDEFX', 'XCDEFY', 'DEFYZ']\n",
    "\n",
    "shortest_superstring(string_list)"
   ]
  },
  {
   "cell_type": "code",
   "execution_count": 101,
   "id": "c280d290",
   "metadata": {},
   "outputs": [
    {
     "data": {
      "text/plain": [
       "'UVWXYZ'"
      ]
     },
     "execution_count": 101,
     "metadata": {},
     "output_type": "execute_result"
    }
   ],
   "source": [
    "string_list = ['UV', 'VW', 'XY', 'YZ']\n",
    "\n",
    "shortest_superstring(string_list)"
   ]
  }
 ],
 "metadata": {
  "kernelspec": {
   "display_name": "Python 3",
   "language": "python",
   "name": "python3"
  },
  "language_info": {
   "codemirror_mode": {
    "name": "ipython",
    "version": 3
   },
   "file_extension": ".py",
   "mimetype": "text/x-python",
   "name": "python",
   "nbconvert_exporter": "python",
   "pygments_lexer": "ipython3",
   "version": "3.12.1"
  }
 },
 "nbformat": 4,
 "nbformat_minor": 5
}

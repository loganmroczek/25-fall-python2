{
 "cells": [
  {
   "cell_type": "markdown",
   "id": "952eb621",
   "metadata": {},
   "source": [
    "## Homework 1 Control Review"
   ]
  },
  {
   "cell_type": "code",
   "execution_count": null,
   "id": "5bafed47",
   "metadata": {},
   "outputs": [],
   "source": [
    "def is_perfect(input_int):\n",
    "    # sums up the divisiors of the input_int\n",
    "    divisor_total = 0\n",
    "    for test_divisior in range(1, input_int):\n",
    "        if input_int % test_divisior == 0:\n",
    "            divisor_total += test_divisior\n",
    "\n",
    "    # if the sum of the divisors is equal to the input_int, it is a perfect number\n",
    "    if divisor_total == input_int:\n",
    "        return True\n",
    "    else:\n",
    "        return False \n"
   ]
  },
  {
   "cell_type": "code",
   "execution_count": 8,
   "id": "4f3f10fa",
   "metadata": {},
   "outputs": [
    {
     "name": "stdout",
     "output_type": "stream",
     "text": [
      "False\n",
      "True\n",
      "True\n"
     ]
    }
   ],
   "source": [
    "print(is_perfect(100))\n",
    "print(is_perfect(496))\n",
    "print(is_perfect(28))"
   ]
  },
  {
   "cell_type": "code",
   "execution_count": 5,
   "id": "11ed40b9",
   "metadata": {},
   "outputs": [],
   "source": [
    "def lcm(int1, int2):\n",
    "    # saves the greater of the two integers to a variable\n",
    "    if int1 > int2:\n",
    "        greater_int = int1\n",
    "    else:\n",
    "        greater_int = int2\n",
    "    \n",
    "    # finds least common multiple\n",
    "    multiple = greater_int\n",
    "    while True:\n",
    "        if multiple % int1 == 0 and multiple % int2 == 0:\n",
    "            return multiple\n",
    "        else: \n",
    "            multiple += greater_int\n",
    "        "
   ]
  },
  {
   "cell_type": "code",
   "execution_count": 9,
   "id": "913f9db7",
   "metadata": {},
   "outputs": [
    {
     "name": "stdout",
     "output_type": "stream",
     "text": [
      "30\n",
      "30\n",
      "30\n",
      "90\n"
     ]
    }
   ],
   "source": [
    "print(lcm(6, 10))\n",
    "print(lcm(3, 10))\n",
    "print(lcm(10, 30))\n",
    "print(lcm(45, 18))"
   ]
  }
 ],
 "metadata": {
  "kernelspec": {
   "display_name": "Python 3",
   "language": "python",
   "name": "python3"
  },
  "language_info": {
   "codemirror_mode": {
    "name": "ipython",
    "version": 3
   },
   "file_extension": ".py",
   "mimetype": "text/x-python",
   "name": "python",
   "nbconvert_exporter": "python",
   "pygments_lexer": "ipython3",
   "version": "3.12.1"
  }
 },
 "nbformat": 4,
 "nbformat_minor": 5
}

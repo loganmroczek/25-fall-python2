{
 "cells": [
  {
   "cell_type": "code",
   "execution_count": 2,
   "metadata": {},
   "outputs": [],
   "source": [
    "def comparison_demo(num1, num2):\n",
    "    \"\"\"\n",
    "    :param num1: number\n",
    "    :param num2: number\n",
    "    :return: Prints a string stating whether num1 is greater than, equal to, or less than num2\n",
    "    \"\"\"\n",
    "    if num1 > num2:\n",
    "        print(num1, 'is greater than', num2)\n",
    "        print('the first condition was met')\n",
    "    elif num1 == num2:\n",
    "        print(num1, 'and', num2, 'are equal')\n",
    "        print('the second condition was met')\n",
    "    else:\n",
    "        print(num1, 'is less than', num2)\n",
    "        print('no conditions were met - executing else statement')"
   ]
  },
  {
   "cell_type": "code",
   "execution_count": 3,
   "metadata": {},
   "outputs": [
    {
     "name": "stdout",
     "output_type": "stream",
     "text": [
      "3 is less than 4\n",
      "no conditions were met - executing else statement\n"
     ]
    }
   ],
   "source": [
    "comparison_demo(3, 4)"
   ]
  },
  {
   "cell_type": "code",
   "execution_count": 4,
   "metadata": {},
   "outputs": [
    {
     "name": "stdout",
     "output_type": "stream",
     "text": [
      "3 and 3 are equal\n",
      "the second condition was met\n"
     ]
    }
   ],
   "source": [
    "comparison_demo(3, 3)"
   ]
  },
  {
   "cell_type": "code",
   "execution_count": 11,
   "metadata": {},
   "outputs": [],
   "source": [
    "def while_demo(input_int):\n",
    "    \"\"\"\n",
    "    :param num1: number\n",
    "    :return: print the first multiple of 10 that is greater than or equal to input_int\n",
    "    \"\"\"\n",
    "    multiple = input_int\n",
    "    while multiple % 10 != 0:\n",
    "        print('multiple is currently:', multiple)\n",
    "        multiple = multiple + 1\n",
    "\n",
    "    return multiple"
   ]
  },
  {
   "cell_type": "code",
   "execution_count": 7,
   "metadata": {},
   "outputs": [
    {
     "name": "stdout",
     "output_type": "stream",
     "text": [
      "Smallest multiple of 10 at least as big as 10 10\n",
      "Smallest multiple of 10 at least as big as 11 20\n"
     ]
    }
   ],
   "source": [
    "result = while_demo(50)\n",
    "print(result)"
   ]
  },
  {
   "cell_type": "code",
   "execution_count": 49,
   "metadata": {},
   "outputs": [
    {
     "name": "stdout",
     "output_type": "stream",
     "text": [
      "multiple is currently: 11\n",
      "multiple is currently: 12\n",
      "multiple is currently: 13\n",
      "multiple is currently: 14\n",
      "multiple is currently: 15\n",
      "multiple is currently: 16\n",
      "multiple is currently: 17\n",
      "multiple is currently: 18\n",
      "multiple is currently: 19\n",
      "20\n"
     ]
    }
   ],
   "source": [
    "result = while_demo(11)\n",
    "print(result)"
   ]
  },
  {
   "cell_type": "code",
   "execution_count": 50,
   "metadata": {},
   "outputs": [],
   "source": [
    "def for_demo(input_int):\n",
    "    \"\"\"\n",
    "    :param input_int: integer\n",
    "    :return: sum of all integers from 1 to input_int, inclusive\n",
    "    \"\"\"\n",
    "    the_sum = 0\n",
    "    for current_int in range(1,input_int + 1):\n",
    "        print('current_int has the value', current_int)\n",
    "        the_sum = the_sum + current_int\n",
    "\n",
    "    return the_sum"
   ]
  },
  {
   "cell_type": "code",
   "execution_count": 51,
   "metadata": {},
   "outputs": [
    {
     "name": "stdout",
     "output_type": "stream",
     "text": [
      "current_int has the value 1\n",
      "current_int has the value 2\n",
      "current_int has the value 3\n",
      "current_int has the value 4\n",
      "current_int has the value 5\n",
      "15\n"
     ]
    }
   ],
   "source": [
    "result = for_demo(5)\n",
    "print(result)"
   ]
  },
  {
   "cell_type": "code",
   "execution_count": 18,
   "metadata": {},
   "outputs": [],
   "source": [
    "def is_prime(input_int):\n",
    "    \"\"\"\n",
    "    :param input_int: integer\n",
    "    :return: True if test_int is prime. False, otherwise.\n",
    "    \"\"\"\n",
    "    for test_divisor in range(2, input_int):\n",
    "        print(\"currently testing divisibility by\", test_divisor)\n",
    "        if input_int % test_divisor == 0:\n",
    "            return False\n",
    "\n",
    "    # If you reach this line, then input_int is not divisible by anything in the\n",
    "    # search range.\n",
    "    return True"
   ]
  },
  {
   "cell_type": "code",
   "execution_count": 53,
   "metadata": {},
   "outputs": [
    {
     "name": "stdout",
     "output_type": "stream",
     "text": [
      "currently testing divisibility by: 2\n",
      "False\n"
     ]
    }
   ],
   "source": [
    "result = is_prime(10)\n",
    "print(result)"
   ]
  },
  {
   "cell_type": "code",
   "execution_count": 54,
   "metadata": {},
   "outputs": [
    {
     "name": "stdout",
     "output_type": "stream",
     "text": [
      "currently testing divisibility by: 2\n",
      "currently testing divisibility by: 3\n",
      "currently testing divisibility by: 4\n",
      "currently testing divisibility by: 5\n",
      "False\n"
     ]
    }
   ],
   "source": [
    "result = is_prime(35)\n",
    "print(result)"
   ]
  },
  {
   "cell_type": "code",
   "execution_count": null,
   "metadata": {},
   "outputs": [
    {
     "name": "stdout",
     "output_type": "stream",
     "text": [
      "currently testing divisibility by 2\n",
      "10 is prime: False\n",
      "currently testing divisibility by 2\n",
      "currently testing divisibility by 3\n",
      "currently testing divisibility by 4\n",
      "currently testing divisibility by 5\n",
      "currently testing divisibility by 6\n",
      "currently testing divisibility by 7\n",
      "currently testing divisibility by 8\n",
      "currently testing divisibility by 9\n",
      "currently testing divisibility by 10\n",
      "currently testing divisibility by 11\n",
      "currently testing divisibility by 12\n",
      "currently testing divisibility by 13\n",
      "currently testing divisibility by 14\n",
      "currently testing divisibility by 15\n",
      "currently testing divisibility by 16\n",
      "currently testing divisibility by 17\n",
      "currently testing divisibility by 18\n",
      "5 is prime: True\n"
     ]
    }
   ],
   "source": [
    "# You can create compound conditional statements using 'and' and 'or'\n",
    "def either_prime(int1, int2):\n",
    "    \"\"\"\n",
    "    :param int1: integer\n",
    "    :param int2: integer\n",
    "    :return: True if at least one of int1 or int2 is prime. False, otherwise.\n",
    "    \"\"\"\n",
    "    if is_prime(int1) or is_prime(int2):\n",
    "        return True\n",
    "    \n",
    "    return False"
   ]
  },
  {
   "cell_type": "code",
   "execution_count": 56,
   "metadata": {},
   "outputs": [
    {
     "name": "stdout",
     "output_type": "stream",
     "text": [
      "currently testing divisibility by: 2\n"
     ]
    },
    {
     "data": {
      "text/plain": [
       "True"
      ]
     },
     "execution_count": 56,
     "metadata": {},
     "output_type": "execute_result"
    }
   ],
   "source": [
    "either_prime(3, 5)"
   ]
  },
  {
   "cell_type": "code",
   "execution_count": 57,
   "metadata": {},
   "outputs": [
    {
     "name": "stdout",
     "output_type": "stream",
     "text": [
      "currently testing divisibility by: 2\n",
      "currently testing divisibility by: 3\n",
      "currently testing divisibility by: 2\n",
      "currently testing divisibility by: 3\n",
      "currently testing divisibility by: 4\n",
      "currently testing divisibility by: 5\n"
     ]
    },
    {
     "data": {
      "text/plain": [
       "False"
      ]
     },
     "execution_count": 57,
     "metadata": {},
     "output_type": "execute_result"
    }
   ],
   "source": [
    "either_prime(9, 35)"
   ]
  }
 ],
 "metadata": {
  "kernelspec": {
   "display_name": "Python 3",
   "language": "python",
   "name": "python3"
  },
  "language_info": {
   "codemirror_mode": {
    "name": "ipython",
    "version": 3
   },
   "file_extension": ".py",
   "mimetype": "text/x-python",
   "name": "python",
   "nbconvert_exporter": "python",
   "pygments_lexer": "ipython3",
   "version": "3.12.1"
  }
 },
 "nbformat": 4,
 "nbformat_minor": 2
}

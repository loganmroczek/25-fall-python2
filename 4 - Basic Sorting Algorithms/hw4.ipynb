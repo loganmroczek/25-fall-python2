{
 "cells": [
  {
   "cell_type": "code",
   "execution_count": null,
   "id": "639fc23f",
   "metadata": {},
   "outputs": [],
   "source": [
    "def improved_bubble_sort(arr, asc = True):\n",
    "    \"\"\"\n",
    "    :param arr: list of integers\n",
    "    :param asc: optional flag to sort in ascending order if True and descending if False\n",
    "    :return: sorts the entries of arr in ascending/descending order according to flag\n",
    "    \"\"\"\n",
    "    length = len(arr)\n",
    "    sorted = 0\n",
    "\n",
    "    #sort ascending\n",
    "    if asc: \n",
    "        for iteration in range(length -1):\n",
    "            change = False\n",
    "            for loc in range(length - (1 + sorted)):\n",
    "                if arr[loc] > arr[loc + 1]:\n",
    "                    (arr[loc], arr[loc+1]) = (arr[loc+1], arr[loc])\n",
    "                    change = True\n",
    "            if change == False:\n",
    "                break\n",
    "            sorted += 1\n",
    "\n",
    "    #sort descending\n",
    "    else: \n",
    "        for iteration in range(length -1):\n",
    "            change = False\n",
    "            for loc in range(length - (1 + sorted)):\n",
    "                if arr[loc] < arr[loc + 1]:\n",
    "                    (arr[loc], arr[loc+1]) = (arr[loc+1], arr[loc])\n",
    "                    change = True\n",
    "            if change == False:\n",
    "                break\n",
    "            sorted += 1\n"
   ]
  },
  {
   "cell_type": "code",
   "execution_count": null,
   "id": "6f56a351",
   "metadata": {},
   "outputs": [],
   "source": [
    "test_arr = [5, 3, 4, 2, 1]\n",
    "improved_bubble_sort(test_arr)\n",
    "print(test_arr)"
   ]
  },
  {
   "cell_type": "code",
   "execution_count": null,
   "id": "9a50d308",
   "metadata": {},
   "outputs": [],
   "source": [
    "def insertion_sort(arr, asc = True):\n",
    "    pass"
   ]
  },
  {
   "cell_type": "code",
   "execution_count": null,
   "id": "a60bd453",
   "metadata": {},
   "outputs": [],
   "source": [
    "test_arr = [5, 3, 4, 2, 1]\n",
    "insertion_sort(test_arr)\n",
    "print(test_arr)"
   ]
  },
  {
   "cell_type": "code",
   "execution_count": null,
   "id": "36ecc776",
   "metadata": {},
   "outputs": [],
   "source": [
    "def selection_sort(arr, asc = True):\n",
    "    pass"
   ]
  },
  {
   "cell_type": "code",
   "execution_count": null,
   "id": "0f1ec000",
   "metadata": {},
   "outputs": [],
   "source": [
    "test_arr = [5, 3, 4, 2, 1]\n",
    "selection_sort(test_arr)\n",
    "print(test_arr)"
   ]
  }
 ],
 "metadata": {
  "language_info": {
   "name": "python"
  }
 },
 "nbformat": 4,
 "nbformat_minor": 5
}

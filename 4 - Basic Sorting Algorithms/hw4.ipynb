{
 "cells": [
  {
   "cell_type": "code",
   "execution_count": 28,
   "id": "639fc23f",
   "metadata": {},
   "outputs": [],
   "source": [
    "def improved_bubble_sort(arr, asc = True):\n",
    "    \"\"\"\n",
    "    :param arr: list of integers\n",
    "    :param asc: optional flag to sort in ascending order if True and descending if False\n",
    "    :return: sorts the entries of arr in ascending/descending order according to flag\n",
    "    \"\"\"\n",
    "    length = len(arr)\n",
    "    sorted = 0\n",
    "\n",
    "    # sort ascending\n",
    "    if asc: \n",
    "        for iteration in range(length -1):\n",
    "            change = False\n",
    "            for loc in range(length - (1 + sorted)):\n",
    "                if arr[loc] > arr[loc + 1]:\n",
    "                    (arr[loc], arr[loc+1]) = (arr[loc+1], arr[loc])\n",
    "                    change = True\n",
    "            if change == False:\n",
    "                break\n",
    "            sorted += 1\n",
    "\n",
    "    # sort descending\n",
    "    else: \n",
    "        for iteration in range(length -1):\n",
    "            change = False\n",
    "            for loc in range(length - (1 + sorted)):\n",
    "                if arr[loc] < arr[loc + 1]:\n",
    "                    (arr[loc], arr[loc+1]) = (arr[loc+1], arr[loc])\n",
    "                    change = True\n",
    "            if change == False:\n",
    "                break\n",
    "            sorted += 1\n"
   ]
  },
  {
   "cell_type": "code",
   "execution_count": 29,
   "id": "6f56a351",
   "metadata": {},
   "outputs": [
    {
     "name": "stdout",
     "output_type": "stream",
     "text": [
      "[1, 2, 3, 4, 5]\n"
     ]
    }
   ],
   "source": [
    "test_arr = [5, 3, 4, 2, 1]\n",
    "improved_bubble_sort(test_arr)\n",
    "print(test_arr)"
   ]
  },
  {
   "cell_type": "code",
   "execution_count": 12,
   "id": "9a50d308",
   "metadata": {},
   "outputs": [],
   "source": [
    "def insertion_sort(arr, asc = True):\n",
    "    \"\"\"\n",
    "    :param arr: list of integers\n",
    "    :param asc: optional flag to sort in ascending order if True and descending if False\n",
    "    :return: sorts the entries of arr in ascending/descending order according to flag\n",
    "    \"\"\"\n",
    "    length = len(arr)\n",
    "\n",
    "    # sort ascending\n",
    "    if asc: \n",
    "        for iteration in range(length):\n",
    "            loc = iteration\n",
    "            while loc > 0 and arr[loc-1] > arr[loc]:\n",
    "                (arr[loc], arr[loc-1]) = (arr[loc-1], arr[loc])\n",
    "                loc -= 1\n",
    "\n",
    "    #sort descending\n",
    "    else:\n",
    "        for iteration in range(length):\n",
    "            loc = iteration\n",
    "            while loc > 0 and arr[loc-1] < arr[loc]:\n",
    "                (arr[loc], arr[loc-1]) = (arr[loc-1], arr[loc])\n",
    "                loc -= 1\n"
   ]
  },
  {
   "cell_type": "code",
   "execution_count": 16,
   "id": "a60bd453",
   "metadata": {},
   "outputs": [
    {
     "name": "stdout",
     "output_type": "stream",
     "text": [
      "[1, 2, 3, 4, 5]\n"
     ]
    }
   ],
   "source": [
    "test_arr = [5, 3, 4, 2, 1]\n",
    "insertion_sort(test_arr)\n",
    "print(test_arr)"
   ]
  },
  {
   "cell_type": "code",
   "execution_count": 25,
   "id": "36ecc776",
   "metadata": {},
   "outputs": [],
   "source": [
    "def selection_sort(arr, asc = True):\n",
    "    \"\"\"\n",
    "    :param arr: list of integers\n",
    "    :param asc: optional flag to sort in ascending order if True and descending if False\n",
    "    :return: sorts the entries of arr in ascending/descending order according to flag\n",
    "    \"\"\"\n",
    "    length = len(arr)\n",
    "\n",
    "    # sort ascending\n",
    "    if asc: \n",
    "        for initial in range(length - 1):\n",
    "            min = initial\n",
    "            for index in range(initial+1,length):\n",
    "                if arr[index] < arr[min]:\n",
    "                    min = index\n",
    "            if min != initial:\n",
    "                (arr[initial], arr[min]) = (arr[min], arr[initial])\n",
    "    \n",
    "    # sort descending\n",
    "    else: \n",
    "        for initial in range(length - 1):\n",
    "            min = initial\n",
    "            for index in range(initial+1,length):\n",
    "                if arr[index] > arr[min]:\n",
    "                    min = index\n",
    "            if min != initial:\n",
    "                (arr[initial], arr[min]) = (arr[min], arr[initial])"
   ]
  },
  {
   "cell_type": "code",
   "execution_count": 26,
   "id": "0f1ec000",
   "metadata": {},
   "outputs": [
    {
     "name": "stdout",
     "output_type": "stream",
     "text": [
      "[5, 4, 3, 2, 1]\n"
     ]
    }
   ],
   "source": [
    "test_arr = [5, 3, 4, 2, 1]\n",
    "selection_sort(test_arr,False)\n",
    "print(test_arr)"
   ]
  }
 ],
 "metadata": {
  "kernelspec": {
   "display_name": "Python 3",
   "language": "python",
   "name": "python3"
  },
  "language_info": {
   "codemirror_mode": {
    "name": "ipython",
    "version": 3
   },
   "file_extension": ".py",
   "mimetype": "text/x-python",
   "name": "python",
   "nbconvert_exporter": "python",
   "pygments_lexer": "ipython3",
   "version": "3.12.1"
  }
 },
 "nbformat": 4,
 "nbformat_minor": 5
}
